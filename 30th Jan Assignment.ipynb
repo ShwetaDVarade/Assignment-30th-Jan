{
 "cells": [
  {
   "attachments": {},
   "cell_type": "markdown",
   "metadata": {},
   "source": [
    "Q. 1)"
   ]
  },
  {
   "cell_type": "code",
   "execution_count": 1,
   "metadata": {},
   "outputs": [
    {
     "name": "stdout",
     "output_type": "stream",
     "text": [
      "Enter marks obtained: \n",
      "Grade is B\n"
     ]
    }
   ],
   "source": [
    "print (\"Enter marks obtained: \")\n",
    "marks = int(input())\n",
    "\n",
    "if marks>90 and marks<=100:\n",
    "    print(\"Grade is A\")\n",
    "elif marks>80 and marks<=90:\n",
    "    print(\"Grade is B\")\n",
    "elif marks>=60 and marks<=80:\n",
    "    print(\"Grade is C\")\n",
    "else:\n",
    "    print(\"Grade is D\")"
   ]
  },
  {
   "attachments": {},
   "cell_type": "markdown",
   "metadata": {},
   "source": [
    "Q. 2)"
   ]
  },
  {
   "cell_type": "code",
   "execution_count": 7,
   "metadata": {},
   "outputs": [
    {
     "name": "stdout",
     "output_type": "stream",
     "text": [
      "Enter the cost of the bike: \n",
      "Tax to be paid = 5% \n",
      "\n"
     ]
    }
   ],
   "source": [
    "print(\"Enter the cost of the bike: \")\n",
    "C = int(input())\n",
    "\n",
    "if C > 100000:\n",
    "    print(\"Tax to be paid = 15% \")\n",
    "    \n",
    "elif C > 50000 and C <= 100000:\n",
    "    print(\"Tax to be paid = 10% \")\n",
    "    \n",
    "elif C <= 50000 :\n",
    "    print(\"Tax to be paid = 5% \")\n",
    "    \n",
    "else:\n",
    "    print(\"There is no tax\")\n",
    "    \n",
    "print()"
   ]
  },
  {
   "attachments": {},
   "cell_type": "markdown",
   "metadata": {},
   "source": [
    "Q. 3)"
   ]
  },
  {
   "cell_type": "code",
   "execution_count": 8,
   "metadata": {},
   "outputs": [
    {
     "name": "stdout",
     "output_type": "stream",
     "text": [
      "Enter city name: \n",
      "Enter valid city name\n"
     ]
    }
   ],
   "source": [
    "print(\"Enter city name: \")\n",
    "city = input()\n",
    "\n",
    "if city == \"Delhi\":\n",
    "    print(\"Red Fort\")\n",
    "    \n",
    "elif city == \"Agra\":\n",
    "    print(\"Taj Mahal\")\n",
    "    \n",
    "elif city == \"Jaipur\":\n",
    "    print(\"Jal Mahal\")\n",
    "    \n",
    "else:\n",
    "    print(\"Enter valid city name\")"
   ]
  },
  {
   "attachments": {},
   "cell_type": "markdown",
   "metadata": {},
   "source": [
    "Q. 4)"
   ]
  },
  {
   "cell_type": "code",
   "execution_count": 9,
   "metadata": {},
   "outputs": [
    {
     "name": "stdout",
     "output_type": "stream",
     "text": [
      "Enter a number: \n",
      "The number can be divided by 3, 0 times before it is less than or equal to 10\n"
     ]
    }
   ],
   "source": [
    "print(\"Enter a number: \")\n",
    "num = int(input())\n",
    "count = 0\n",
    "\n",
    "while num >= 10:\n",
    "    num = num/3\n",
    "    count += 1\n",
    "    \n",
    "print(\"The number can be divided by 3,\", count, \"times before it is less than or equal to 10\")"
   ]
  },
  {
   "attachments": {},
   "cell_type": "markdown",
   "metadata": {},
   "source": [
    "Q. 5)"
   ]
  },
  {
   "attachments": {},
   "cell_type": "markdown",
   "metadata": {},
   "source": [
    "In Python, a while loop is used when we need to execute a block of code repeatedly as long as a certain condition is true. The loop will continue to run until the condition becomes false. Here's a detailed description of why and when to use a while loop, along with an example:\n",
    "\n",
    "A while loop is useful when we need to repeat a certain block of code an unknown number of times, based on a condition that we don't know beforehand. In contrast to a for loop, which is used when we need to iterate over a known sequence of values, a while loop allows us to repeatedly execute a block of code as long as a certain condition is met. This makes it very flexible, and useful in situations where we don't know exactly how many times we need to run the loop.\n",
    "\n",
    "A while loop can be used in many situations, but some common use cases include:\n",
    "\n",
    "When we need to keep asking for user input until they provide a valid response.\n",
    "When we need to repeatedly perform a calculation until we reach a certain result.\n",
    "When we need to monitor a condition and perform an action based on it."
   ]
  },
  {
   "attachments": {},
   "cell_type": "markdown",
   "metadata": {},
   "source": [
    "Q. 6)"
   ]
  },
  {
   "cell_type": "code",
   "execution_count": 11,
   "metadata": {},
   "outputs": [
    {
     "name": "stdout",
     "output_type": "stream",
     "text": [
      "@ \n",
      "@ @ \n",
      "@ @ @ \n",
      "@ @ @ @ \n",
      "@ @ @ @ @ \n",
      "@ @ @ @ @ @ \n",
      "@ @ @ @ @ @ @ \n"
     ]
    }
   ],
   "source": [
    "#code for pattern 1\n",
    "\n",
    "for i in range(1, 8):\n",
    "    for j in range(i):\n",
    "        print(\"@\", end = \" \")\n",
    "    print()"
   ]
  },
  {
   "cell_type": "code",
   "execution_count": 13,
   "metadata": {},
   "outputs": [
    {
     "name": "stdout",
     "output_type": "stream",
     "text": [
      "            * \n",
      "          * * * \n",
      "        * * * * * \n",
      "      * * * * * * * \n",
      "    * * * * * * * * * \n",
      "  * * * * * * * * * * * \n",
      "* * * * * * * * * * * * * \n"
     ]
    }
   ],
   "source": [
    "#code for pattern 2\n",
    "\n",
    "for i in range (1, 8):\n",
    "    for j in range(7-i):\n",
    "        print(\" \", end = \" \")\n",
    "    for k in range(2*i-1):\n",
    "        print(\"*\", end = \" \")\n",
    "    print()"
   ]
  },
  {
   "cell_type": "code",
   "execution_count": 14,
   "metadata": {},
   "outputs": [
    {
     "name": "stdout",
     "output_type": "stream",
     "text": [
      "1 0 1 0 1 0 1 0 1 0 1 \n",
      "  1 0 1 0 1 0 1 0 1 \n",
      "    1 0 1 0 1 0 1 \n",
      "      1 0 1 0 1 \n",
      "        1 0 1 \n",
      "          1 \n"
     ]
    }
   ],
   "source": [
    "#code for pattern 3\n",
    "\n",
    "for i in range(6, 0, -1):\n",
    "    for j in range(6-i):\n",
    "        print(\" \", end=\" \")\n",
    "    for k in range(2*i-1):\n",
    "        if k % 2 == 0:\n",
    "            print(\"1\", end=\" \")\n",
    "        else:\n",
    "            print(\"0\", end=\" \")\n",
    "    print()\n"
   ]
  },
  {
   "attachments": {},
   "cell_type": "markdown",
   "metadata": {},
   "source": [
    "Q. 7)"
   ]
  },
  {
   "cell_type": "code",
   "execution_count": 15,
   "metadata": {},
   "outputs": [
    {
     "name": "stdout",
     "output_type": "stream",
     "text": [
      "10\n",
      "9\n",
      "8\n",
      "7\n",
      "6\n",
      "5\n",
      "4\n",
      "3\n",
      "2\n",
      "1\n"
     ]
    }
   ],
   "source": [
    "num = 10\n",
    "\n",
    "while num >= 1:\n",
    "    print(num)\n",
    "    num -= 1\n"
   ]
  },
  {
   "attachments": {},
   "cell_type": "markdown",
   "metadata": {},
   "source": [
    "Q. 8)"
   ]
  },
  {
   "cell_type": "code",
   "execution_count": 16,
   "metadata": {},
   "outputs": [
    {
     "name": "stdout",
     "output_type": "stream",
     "text": [
      "10\n",
      "9\n",
      "8\n",
      "7\n",
      "6\n",
      "5\n",
      "4\n",
      "3\n",
      "2\n",
      "1\n"
     ]
    }
   ],
   "source": [
    "num = 10\n",
    "\n",
    "while num >= 1:\n",
    "    print(num)\n",
    "    num -= 1\n"
   ]
  },
  {
   "cell_type": "code",
   "execution_count": null,
   "metadata": {},
   "outputs": [],
   "source": []
  }
 ],
 "metadata": {
  "kernelspec": {
   "display_name": "Python 3",
   "language": "python",
   "name": "python3"
  },
  "language_info": {
   "codemirror_mode": {
    "name": "ipython",
    "version": 3
   },
   "file_extension": ".py",
   "mimetype": "text/x-python",
   "name": "python",
   "nbconvert_exporter": "python",
   "pygments_lexer": "ipython3",
   "version": "3.10.10"
  },
  "orig_nbformat": 4
 },
 "nbformat": 4,
 "nbformat_minor": 2
}
